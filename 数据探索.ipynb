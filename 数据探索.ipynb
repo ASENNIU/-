{
 "cells": [
  {
   "cell_type": "code",
   "execution_count": 2,
   "id": "similar-arena",
   "metadata": {
    "ExecuteTime": {
     "end_time": "2021-03-06T03:57:24.840987Z",
     "start_time": "2021-03-06T03:57:23.885743Z"
    }
   },
   "outputs": [],
   "source": [
    "import pandas as pd\n",
    "import matplotlib.pyplot as plt"
   ]
  },
  {
   "cell_type": "code",
   "execution_count": 22,
   "id": "extended-turkish",
   "metadata": {
    "ExecuteTime": {
     "end_time": "2021-03-06T04:20:37.017522Z",
     "start_time": "2021-03-06T04:20:36.986359Z"
    }
   },
   "outputs": [],
   "source": [
    "df1 = pd.read_csv('dataset/track1_round1_train_20210222.csv', header=None, names=['idx', 'context', 'label'])"
   ]
  },
  {
   "cell_type": "code",
   "execution_count": 24,
   "id": "tired-taiwan",
   "metadata": {
    "ExecuteTime": {
     "end_time": "2021-03-06T04:21:54.498677Z",
     "start_time": "2021-03-06T04:21:54.468206Z"
    }
   },
   "outputs": [],
   "source": [
    "df2 = pd.read_csv('dataset/track1_round1_testA_20210222.csv', header=None, names=['idx', 'context'])"
   ]
  },
  {
   "cell_type": "markdown",
   "id": "complete-certificate",
   "metadata": {},
   "source": [
    "将训练样本和测试样本连接起来探索数据的一些性质"
   ]
  },
  {
   "cell_type": "code",
   "execution_count": 25,
   "id": "printable-utility",
   "metadata": {
    "ExecuteTime": {
     "end_time": "2021-03-06T04:24:18.179550Z",
     "start_time": "2021-03-06T04:24:18.171607Z"
    }
   },
   "outputs": [],
   "source": [
    "df = pd.concat([df1[['idx', 'context']], df2])"
   ]
  },
  {
   "cell_type": "code",
   "execution_count": 26,
   "id": "powerful-passion",
   "metadata": {
    "ExecuteTime": {
     "end_time": "2021-03-06T04:24:28.788104Z",
     "start_time": "2021-03-06T04:24:28.784115Z"
    }
   },
   "outputs": [
    {
     "data": {
      "text/plain": [
       "(13000, 2)"
      ]
     },
     "execution_count": 26,
     "metadata": {},
     "output_type": "execute_result"
    }
   ],
   "source": [
    "df.shape"
   ]
  },
  {
   "cell_type": "code",
   "execution_count": 27,
   "id": "freelance-virginia",
   "metadata": {
    "ExecuteTime": {
     "end_time": "2021-03-06T04:24:34.640890Z",
     "start_time": "2021-03-06T04:24:34.632886Z"
    },
    "scrolled": false
   },
   "outputs": [
    {
     "data": {
      "text/html": [
       "<div>\n",
       "<style scoped>\n",
       "    .dataframe tbody tr th:only-of-type {\n",
       "        vertical-align: middle;\n",
       "    }\n",
       "\n",
       "    .dataframe tbody tr th {\n",
       "        vertical-align: top;\n",
       "    }\n",
       "\n",
       "    .dataframe thead th {\n",
       "        text-align: right;\n",
       "    }\n",
       "</style>\n",
       "<table border=\"1\" class=\"dataframe\">\n",
       "  <thead>\n",
       "    <tr style=\"text-align: right;\">\n",
       "      <th></th>\n",
       "      <th>idx</th>\n",
       "      <th>context</th>\n",
       "    </tr>\n",
       "  </thead>\n",
       "  <tbody>\n",
       "    <tr>\n",
       "      <th>0</th>\n",
       "      <td>0|</td>\n",
       "      <td>|623 328 538 382 399 400 478 842 698 137 492 2...</td>\n",
       "    </tr>\n",
       "    <tr>\n",
       "      <th>1</th>\n",
       "      <td>1|</td>\n",
       "      <td>|48 328 538 382 809 623 434 355 382 382 363 14...</td>\n",
       "    </tr>\n",
       "    <tr>\n",
       "      <th>2</th>\n",
       "      <td>2|</td>\n",
       "      <td>|623 656 293 851 636 842 698 493 338 266 369 6...</td>\n",
       "    </tr>\n",
       "    <tr>\n",
       "      <th>3</th>\n",
       "      <td>3|</td>\n",
       "      <td>|48 328 380 259 439 107 380 265 172 470 290 69...</td>\n",
       "    </tr>\n",
       "    <tr>\n",
       "      <th>4</th>\n",
       "      <td>4|</td>\n",
       "      <td>|623 328 399 698 493 338 266 14 177 415 511 64...</td>\n",
       "    </tr>\n",
       "    <tr>\n",
       "      <th>5</th>\n",
       "      <td>5|</td>\n",
       "      <td>|80 328 328 54 172 439 741 380 172 842 698 177...</td>\n",
       "    </tr>\n",
       "    <tr>\n",
       "      <th>6</th>\n",
       "      <td>6|</td>\n",
       "      <td>|48 322 795 856 374 439 48 328 443 380 597 172...</td>\n",
       "    </tr>\n",
       "    <tr>\n",
       "      <th>7</th>\n",
       "      <td>7|</td>\n",
       "      <td>|623 328 659 486 582 162 711 289 606 405 809 7...</td>\n",
       "    </tr>\n",
       "    <tr>\n",
       "      <th>8</th>\n",
       "      <td>8|</td>\n",
       "      <td>|852 328 471 585 117 458 399 607 693 380 522 6...</td>\n",
       "    </tr>\n",
       "    <tr>\n",
       "      <th>9</th>\n",
       "      <td>9|</td>\n",
       "      <td>|229 172 200 737 437 547 651 693 623 328 355 6...</td>\n",
       "    </tr>\n",
       "  </tbody>\n",
       "</table>\n",
       "</div>"
      ],
      "text/plain": [
       "  idx                                            context\n",
       "0  0|  |623 328 538 382 399 400 478 842 698 137 492 2...\n",
       "1  1|  |48 328 538 382 809 623 434 355 382 382 363 14...\n",
       "2  2|  |623 656 293 851 636 842 698 493 338 266 369 6...\n",
       "3  3|  |48 328 380 259 439 107 380 265 172 470 290 69...\n",
       "4  4|  |623 328 399 698 493 338 266 14 177 415 511 64...\n",
       "5  5|  |80 328 328 54 172 439 741 380 172 842 698 177...\n",
       "6  6|  |48 322 795 856 374 439 48 328 443 380 597 172...\n",
       "7  7|  |623 328 659 486 582 162 711 289 606 405 809 7...\n",
       "8  8|  |852 328 471 585 117 458 399 607 693 380 522 6...\n",
       "9  9|  |229 172 200 737 437 547 651 693 623 328 355 6..."
      ]
     },
     "execution_count": 27,
     "metadata": {},
     "output_type": "execute_result"
    }
   ],
   "source": [
    "df.head(10)"
   ]
  },
  {
   "cell_type": "markdown",
   "id": "applicable-shock",
   "metadata": {},
   "source": [
    "拆分数据，去除首尾的分隔符（‘|’和‘ ’），再以空格分隔"
   ]
  },
  {
   "cell_type": "code",
   "execution_count": 28,
   "id": "elder-budget",
   "metadata": {
    "ExecuteTime": {
     "end_time": "2021-03-06T04:24:45.035239Z",
     "start_time": "2021-03-06T04:24:44.981991Z"
    }
   },
   "outputs": [],
   "source": [
    "df['words'] = df['context'].apply(lambda x: x.strip('|').strip().split(' '))"
   ]
  },
  {
   "cell_type": "code",
   "execution_count": 29,
   "id": "activated-executive",
   "metadata": {
    "ExecuteTime": {
     "end_time": "2021-03-06T04:24:51.912971Z",
     "start_time": "2021-03-06T04:24:51.902998Z"
    }
   },
   "outputs": [
    {
     "data": {
      "text/plain": [
       "(13000, 3)"
      ]
     },
     "execution_count": 29,
     "metadata": {},
     "output_type": "execute_result"
    }
   ],
   "source": [
    "df.shape"
   ]
  },
  {
   "cell_type": "code",
   "execution_count": 18,
   "id": "lucky-albert",
   "metadata": {
    "ExecuteTime": {
     "end_time": "2021-03-06T04:15:51.509413Z",
     "start_time": "2021-03-06T04:15:51.503429Z"
    }
   },
   "outputs": [],
   "source": [
    "from collections import Counter"
   ]
  },
  {
   "cell_type": "markdown",
   "id": "derived-death",
   "metadata": {},
   "source": [
    "统计各个词的数量和不同长度文本的数量"
   ]
  },
  {
   "cell_type": "code",
   "execution_count": 30,
   "id": "medical-gospel",
   "metadata": {
    "ExecuteTime": {
     "end_time": "2021-03-06T04:24:57.914437Z",
     "start_time": "2021-03-06T04:24:57.911409Z"
    }
   },
   "outputs": [],
   "source": [
    "wordCounter = Counter()\n",
    "lengthCounter = Counter()"
   ]
  },
  {
   "cell_type": "code",
   "execution_count": 31,
   "id": "happy-marijuana",
   "metadata": {
    "ExecuteTime": {
     "end_time": "2021-03-06T04:25:00.471457Z",
     "start_time": "2021-03-06T04:25:00.104936Z"
    }
   },
   "outputs": [],
   "source": [
    "for i in range(df.shape[0]):\n",
    "    length = len(df['words'].iloc[i])\n",
    "    lengthCounter[length] += 1\n",
    "    for word in df['words'].iloc[i]:\n",
    "        wordCounter[word] += 1"
   ]
  },
  {
   "cell_type": "code",
   "execution_count": 32,
   "id": "neural-composer",
   "metadata": {
    "ExecuteTime": {
     "end_time": "2021-03-06T04:25:02.363288Z",
     "start_time": "2021-03-06T04:25:02.345335Z"
    }
   },
   "outputs": [
    {
     "name": "stdout",
     "output_type": "stream",
     "text": [
      "num of word:  858\n"
     ]
    }
   ],
   "source": [
    "print('num of word: ', len(wordCounter))"
   ]
  },
  {
   "cell_type": "code",
   "execution_count": 33,
   "id": "requested-northwest",
   "metadata": {
    "ExecuteTime": {
     "end_time": "2021-03-06T04:26:35.139973Z",
     "start_time": "2021-03-06T04:26:35.127042Z"
    }
   },
   "outputs": [
    {
     "name": "stdout",
     "output_type": "stream",
     "text": [
      "num of different length: 100\n"
     ]
    }
   ],
   "source": [
    "print('num of different length:', len(lengthCounter))"
   ]
  },
  {
   "cell_type": "markdown",
   "id": "promising-dublin",
   "metadata": {},
   "source": [
    "转换为list数据格式"
   ]
  },
  {
   "cell_type": "code",
   "execution_count": 35,
   "id": "biological-subdivision",
   "metadata": {
    "ExecuteTime": {
     "end_time": "2021-03-06T04:27:31.201473Z",
     "start_time": "2021-03-06T04:27:31.196488Z"
    }
   },
   "outputs": [],
   "source": [
    "lengthtuple = [item for item in lengthCounter.items()]"
   ]
  },
  {
   "cell_type": "code",
   "execution_count": 36,
   "id": "universal-worth",
   "metadata": {
    "ExecuteTime": {
     "end_time": "2021-03-06T04:27:55.817352Z",
     "start_time": "2021-03-06T04:27:55.805367Z"
    }
   },
   "outputs": [
    {
     "data": {
      "text/plain": [
       "[(48, 218), (38, 312), (35, 350), (82, 35), (22, 211)]"
      ]
     },
     "execution_count": 36,
     "metadata": {},
     "output_type": "execute_result"
    }
   ],
   "source": [
    "lengthtuple[0:5]"
   ]
  },
  {
   "cell_type": "markdown",
   "id": "assigned-clothing",
   "metadata": {},
   "source": [
    "排序，按文本长度排序"
   ]
  },
  {
   "cell_type": "code",
   "execution_count": 37,
   "id": "undefined-forest",
   "metadata": {
    "ExecuteTime": {
     "end_time": "2021-03-06T04:28:27.032404Z",
     "start_time": "2021-03-06T04:28:27.021396Z"
    }
   },
   "outputs": [],
   "source": [
    "lengthtuple.sort(key=lambda x: x[0])"
   ]
  },
  {
   "cell_type": "code",
   "execution_count": 38,
   "id": "subtle-nigeria",
   "metadata": {
    "ExecuteTime": {
     "end_time": "2021-03-06T04:28:35.065070Z",
     "start_time": "2021-03-06T04:28:35.047084Z"
    }
   },
   "outputs": [
    {
     "data": {
      "text/plain": [
       "[(4, 2), (5, 9), (6, 11), (7, 20), (8, 31)]"
      ]
     },
     "execution_count": 38,
     "metadata": {},
     "output_type": "execute_result"
    }
   ],
   "source": [
    "lengthtuple[0:5]"
   ]
  },
  {
   "cell_type": "markdown",
   "id": "educated-onion",
   "metadata": {},
   "source": [
    "将上一步得到的list，解压缩为两个序列，文本长度的list和数量的list, zip（）是压缩，zip（*）解压缩"
   ]
  },
  {
   "cell_type": "code",
   "execution_count": 39,
   "id": "nominated-moderator",
   "metadata": {
    "ExecuteTime": {
     "end_time": "2021-03-06T04:35:39.271126Z",
     "start_time": "2021-03-06T04:35:39.253180Z"
    }
   },
   "outputs": [],
   "source": [
    "lengthList, numList = zip(*lengthtuple)"
   ]
  },
  {
   "cell_type": "code",
   "execution_count": 40,
   "id": "collaborative-criterion",
   "metadata": {
    "ExecuteTime": {
     "end_time": "2021-03-06T04:35:53.609303Z",
     "start_time": "2021-03-06T04:35:53.598306Z"
    }
   },
   "outputs": [
    {
     "data": {
      "text/plain": [
       "(4, 5, 6, 7, 8)"
      ]
     },
     "execution_count": 40,
     "metadata": {},
     "output_type": "execute_result"
    }
   ],
   "source": [
    "lengthList[0:5]"
   ]
  },
  {
   "cell_type": "code",
   "execution_count": 43,
   "id": "simplified-maximum",
   "metadata": {
    "ExecuteTime": {
     "end_time": "2021-03-06T05:05:31.002144Z",
     "start_time": "2021-03-06T05:05:30.235045Z"
    }
   },
   "outputs": [
    {
     "data": {
      "image/png": "[encoded data removed]",
      "text/plain": [
       "<Figure size 864x576 with 1 Axes>"
      ]
     },
     "metadata": {
      "needs_background": "light"
     },
     "output_type": "display_data"
    }
   ],
   "source": [
    "plt.figure(figsize=(12, 8))\n",
    "plt.bar(x=lengthList, height=numList)\n",
    "plt.title('nums of different text length')\n",
    "plt.savefig('Length.png', dpi=400)\n",
    "plt.show()"
   ]
  },
  {
   "cell_type": "code",
   "execution_count": 44,
   "id": "yellow-floor",
   "metadata": {
    "ExecuteTime": {
     "end_time": "2021-03-06T05:12:41.844759Z",
     "start_time": "2021-03-06T05:12:41.825810Z"
    }
   },
   "outputs": [],
   "source": [
    "df['length'] = df['words'].apply(lambda x: len(x))"
   ]
  },
  {
   "cell_type": "code",
   "execution_count": 45,
   "id": "colonial-facility",
   "metadata": {
    "ExecuteTime": {
     "end_time": "2021-03-06T05:12:55.908001Z",
     "start_time": "2021-03-06T05:12:55.900023Z"
    },
    "scrolled": true
   },
   "outputs": [
    {
     "data": {
      "text/plain": [
       "count    13000.000000\n",
       "mean        41.298231\n",
       "std         18.206221\n",
       "min          4.000000\n",
       "25%         28.000000\n",
       "50%         38.000000\n",
       "75%         51.000000\n",
       "max        104.000000\n",
       "Name: length, dtype: float64"
      ]
     },
     "execution_count": 45,
     "metadata": {},
     "output_type": "execute_result"
    }
   ],
   "source": [
    "df['length'].describe()"
   ]
  },
  {
   "cell_type": "markdown",
   "id": "alternate-province",
   "metadata": {},
   "source": [
    "探索出现字的性质"
   ]
  },
  {
   "cell_type": "code",
   "execution_count": 46,
   "id": "mediterranean-compromise",
   "metadata": {
    "ExecuteTime": {
     "end_time": "2021-03-06T05:14:45.620726Z",
     "start_time": "2021-03-06T05:14:45.605769Z"
    }
   },
   "outputs": [],
   "source": [
    "wordTuples = [item for item in wordCounter.items()]"
   ]
  },
  {
   "cell_type": "markdown",
   "id": "blond-difficulty",
   "metadata": {},
   "source": [
    "按出现次数排序"
   ]
  },
  {
   "cell_type": "code",
   "execution_count": 47,
   "id": "painful-alignment",
   "metadata": {
    "ExecuteTime": {
     "end_time": "2021-03-06T05:15:04.772981Z",
     "start_time": "2021-03-06T05:15:04.759983Z"
    }
   },
   "outputs": [],
   "source": [
    "wordTuples.sort(key=lambda x: x[1])"
   ]
  },
  {
   "cell_type": "code",
   "execution_count": 48,
   "id": "occupied-footwear",
   "metadata": {
    "ExecuteTime": {
     "end_time": "2021-03-06T05:15:16.270739Z",
     "start_time": "2021-03-06T05:15:16.257774Z"
    },
    "scrolled": true
   },
   "outputs": [
    {
     "data": {
      "text/plain": [
       "[('466', 78),\n",
       " ('236', 85),\n",
       " ('186', 86),\n",
       " ('82', 89),\n",
       " ('241', 90),\n",
       " ('708', 91),\n",
       " ('242', 92),\n",
       " ('467', 92),\n",
       " ('131', 92),\n",
       " ('451', 92)]"
      ]
     },
     "execution_count": 48,
     "metadata": {},
     "output_type": "execute_result"
    }
   ],
   "source": [
    "wordTuples[0:10]"
   ]
  },
  {
   "cell_type": "code",
   "execution_count": 71,
   "id": "foreign-istanbul",
   "metadata": {
    "ExecuteTime": {
     "end_time": "2021-03-06T05:48:45.518549Z",
     "start_time": "2021-03-06T05:48:45.508577Z"
    }
   },
   "outputs": [
    {
     "data": {
      "text/plain": [
       "[('266', 6907),\n",
       " ('623', 7148),\n",
       " ('809', 9323),\n",
       " ('381', 12750),\n",
       " ('177', 13352),\n",
       " ('415', 13502),\n",
       " ('380', 16313),\n",
       " ('698', 16551),\n",
       " ('328', 18975),\n",
       " ('693', 26282)]"
      ]
     },
     "execution_count": 71,
     "metadata": {},
     "output_type": "execute_result"
    }
   ],
   "source": [
    "wordTuples[-10:]"
   ]
  },
  {
   "cell_type": "code",
   "execution_count": 49,
   "id": "miniature-daniel",
   "metadata": {
    "ExecuteTime": {
     "end_time": "2021-03-06T05:16:51.189278Z",
     "start_time": "2021-03-06T05:16:51.175286Z"
    }
   },
   "outputs": [],
   "source": [
    "wordList, wordNum = zip(*wordTuples)"
   ]
  },
  {
   "cell_type": "code",
   "execution_count": 50,
   "id": "acting-plain",
   "metadata": {
    "ExecuteTime": {
     "end_time": "2021-03-06T05:17:02.361733Z",
     "start_time": "2021-03-06T05:17:02.351730Z"
    }
   },
   "outputs": [
    {
     "data": {
      "text/plain": [
       "858"
      ]
     },
     "execution_count": 50,
     "metadata": {},
     "output_type": "execute_result"
    }
   ],
   "source": [
    "len(wordList)"
   ]
  },
  {
   "cell_type": "code",
   "execution_count": 51,
   "id": "minute-posting",
   "metadata": {
    "ExecuteTime": {
     "end_time": "2021-03-06T05:19:56.583526Z",
     "start_time": "2021-03-06T05:19:56.568535Z"
    }
   },
   "outputs": [],
   "source": [
    "import numpy as np\n",
    "wordSries = pd.Series(data=wordNum, index=wordList, name='word')"
   ]
  },
  {
   "cell_type": "code",
   "execution_count": 52,
   "id": "uniform-protein",
   "metadata": {
    "ExecuteTime": {
     "end_time": "2021-03-06T05:20:25.476396Z",
     "start_time": "2021-03-06T05:20:25.468444Z"
    }
   },
   "outputs": [
    {
     "data": {
      "text/plain": [
       "(858,)"
      ]
     },
     "execution_count": 52,
     "metadata": {},
     "output_type": "execute_result"
    }
   ],
   "source": [
    "wordSries.shape"
   ]
  },
  {
   "cell_type": "code",
   "execution_count": 53,
   "id": "great-washer",
   "metadata": {
    "ExecuteTime": {
     "end_time": "2021-03-06T05:20:36.530861Z",
     "start_time": "2021-03-06T05:20:36.510880Z"
    }
   },
   "outputs": [
    {
     "data": {
      "text/plain": [
       "count      858.000000\n",
       "mean       625.730769\n",
       "std       1821.054338\n",
       "min         78.000000\n",
       "25%        117.000000\n",
       "50%        139.000000\n",
       "75%        357.750000\n",
       "max      26282.000000\n",
       "Name: word, dtype: float64"
      ]
     },
     "execution_count": 53,
     "metadata": {},
     "output_type": "execute_result"
    }
   ],
   "source": [
    "wordSries.describe()"
   ]
  },
  {
   "cell_type": "code",
   "execution_count": 54,
   "id": "described-forestry",
   "metadata": {
    "ExecuteTime": {
     "end_time": "2021-03-06T05:21:18.285601Z",
     "start_time": "2021-03-06T05:21:18.268616Z"
    }
   },
   "outputs": [
    {
     "data": {
      "text/plain": [
       "466    78\n",
       "236    85\n",
       "186    86\n",
       "82     89\n",
       "241    90\n",
       "708    91\n",
       "242    92\n",
       "467    92\n",
       "131    92\n",
       "451    92\n",
       "Name: word, dtype: int64"
      ]
     },
     "execution_count": 54,
     "metadata": {},
     "output_type": "execute_result"
    }
   ],
   "source": [
    "wordSries.iloc[0:10]"
   ]
  },
  {
   "cell_type": "code",
   "execution_count": 55,
   "id": "sharp-worcester",
   "metadata": {
    "ExecuteTime": {
     "end_time": "2021-03-06T05:21:40.553959Z",
     "start_time": "2021-03-06T05:21:40.535971Z"
    }
   },
   "outputs": [
    {
     "data": {
      "text/plain": [
       "118"
      ]
     },
     "execution_count": 55,
     "metadata": {},
     "output_type": "execute_result"
    }
   ],
   "source": [
    "wordSries['23']"
   ]
  },
  {
   "cell_type": "code",
   "execution_count": 58,
   "id": "closing-fundamentals",
   "metadata": {
    "ExecuteTime": {
     "end_time": "2021-03-06T05:31:45.447468Z",
     "start_time": "2021-03-06T05:31:45.429515Z"
    }
   },
   "outputs": [
    {
     "data": {
      "text/plain": [
       "266     6907\n",
       "623     7148\n",
       "809     9323\n",
       "381    12750\n",
       "177    13352\n",
       "415    13502\n",
       "380    16313\n",
       "698    16551\n",
       "328    18975\n",
       "693    26282\n",
       "Name: word, dtype: int64"
      ]
     },
     "execution_count": 58,
     "metadata": {},
     "output_type": "execute_result"
    }
   ],
   "source": [
    "wordSries.iloc[-10:]"
   ]
  },
  {
   "cell_type": "code",
   "execution_count": 57,
   "id": "ideal-suspect",
   "metadata": {
    "ExecuteTime": {
     "end_time": "2021-03-06T05:25:10.355000Z",
     "start_time": "2021-03-06T05:25:10.336051Z"
    },
    "scrolled": true
   },
   "outputs": [
    {
     "data": {
      "text/plain": [
       "26282"
      ]
     },
     "execution_count": 57,
     "metadata": {},
     "output_type": "execute_result"
    }
   ],
   "source": [
    "wordSries.iloc[857]"
   ]
  },
  {
   "cell_type": "markdown",
   "id": "complimentary-vinyl",
   "metadata": {},
   "source": [
    "可以看见最后这几个字出现次数远超其他，考虑是否要在字典中去除他们。"
   ]
  },
  {
   "cell_type": "markdown",
   "id": "dense-riverside",
   "metadata": {},
   "source": [
    "探索label的性质，label只出现在训练集中，即df1"
   ]
  },
  {
   "cell_type": "markdown",
   "id": "disturbed-feature",
   "metadata": {},
   "source": [
    "Excel里面显示，数据当中有label为空的情况"
   ]
  },
  {
   "cell_type": "code",
   "execution_count": 72,
   "id": "athletic-school",
   "metadata": {
    "ExecuteTime": {
     "end_time": "2021-03-06T05:51:37.147692Z",
     "start_time": "2021-03-06T05:51:37.131735Z"
    }
   },
   "outputs": [
    {
     "data": {
      "text/plain": [
       "'|'"
      ]
     },
     "execution_count": 72,
     "metadata": {},
     "output_type": "execute_result"
    }
   ],
   "source": [
    "df1['label'].iloc[1]"
   ]
  },
  {
   "cell_type": "code",
   "execution_count": 74,
   "id": "failing-digest",
   "metadata": {
    "ExecuteTime": {
     "end_time": "2021-03-06T05:58:07.493312Z",
     "start_time": "2021-03-06T05:58:07.410376Z"
    }
   },
   "outputs": [
    {
     "name": "stdout",
     "output_type": "stream",
     "text": [
      "没有标签，即正常的数据共：0例。\n"
     ]
    }
   ],
   "source": [
    "num = 0\n",
    "for i in range(df1.shape[0]):\n",
    "    if df1['label'].iloc[i] == '|':\n",
    "        df1.loc['label', i] = '| -1'\n",
    "        num += 1\n",
    "print(f'没有标签，即正常的数据共：{num}例。')"
   ]
  },
  {
   "cell_type": "code",
   "execution_count": 75,
   "id": "imperial-greece",
   "metadata": {
    "ExecuteTime": {
     "end_time": "2021-03-06T05:58:20.463032Z",
     "start_time": "2021-03-06T05:58:20.440311Z"
    }
   },
   "outputs": [],
   "source": [
    "df1['labelList'] = df1['label'].apply(lambda x: x.strip('|').strip().split(' '))"
   ]
  },
  {
   "cell_type": "code",
   "execution_count": 76,
   "id": "broke-honor",
   "metadata": {
    "ExecuteTime": {
     "end_time": "2021-03-06T05:58:23.313140Z",
     "start_time": "2021-03-06T05:58:23.288602Z"
    }
   },
   "outputs": [
    {
     "data": {
      "text/plain": [
       "count    10000.000000\n",
       "mean         1.635000\n",
       "std          1.298824\n",
       "min          1.000000\n",
       "25%          1.000000\n",
       "50%          1.000000\n",
       "75%          2.000000\n",
       "max          8.000000\n",
       "Name: numLabelEachOne, dtype: float64"
      ]
     },
     "execution_count": 76,
     "metadata": {},
     "output_type": "execute_result"
    }
   ],
   "source": [
    "df1['numLabelEachOne'] = df1['labelList'].apply(lambda x: len(x))\n",
    "df1['numLabelEachOne'].describe()"
   ]
  },
  {
   "cell_type": "markdown",
   "id": "characteristic-display",
   "metadata": {},
   "source": [
    "大部分的数据只有一个标签"
   ]
  },
  {
   "cell_type": "code",
   "execution_count": 77,
   "id": "transsexual-physics",
   "metadata": {
    "ExecuteTime": {
     "end_time": "2021-03-06T05:58:32.617452Z",
     "start_time": "2021-03-06T05:58:32.531131Z"
    }
   },
   "outputs": [],
   "source": [
    "labelCounter = Counter()\n",
    "for i in range(df1.shape[0]):\n",
    "    for label in df1['labelList'].iloc[i]:\n",
    "        labelCounter[label] += 1"
   ]
  },
  {
   "cell_type": "code",
   "execution_count": 78,
   "id": "different-stable",
   "metadata": {
    "ExecuteTime": {
     "end_time": "2021-03-06T05:58:49.126085Z",
     "start_time": "2021-03-06T05:58:49.111092Z"
    }
   },
   "outputs": [],
   "source": [
    "labelTuples = [item for item in labelCounter.items()]\n",
    "labelTuples.sort(key=lambda x: int(x[0]))\n",
    "labelList, numList = zip(*labelTuples)"
   ]
  },
  {
   "cell_type": "code",
   "execution_count": 79,
   "id": "collected-strengthening",
   "metadata": {
    "ExecuteTime": {
     "end_time": "2021-03-06T05:58:51.253995Z",
     "start_time": "2021-03-06T05:58:51.242027Z"
    }
   },
   "outputs": [
    {
     "data": {
      "text/plain": [
       "('-1', '0', '1', '2', '3')"
      ]
     },
     "execution_count": 79,
     "metadata": {},
     "output_type": "execute_result"
    }
   ],
   "source": [
    "len(labelList)\n",
    "labelList[:5]"
   ]
  },
  {
   "cell_type": "code",
   "execution_count": 87,
   "id": "medical-grove",
   "metadata": {
    "ExecuteTime": {
     "end_time": "2021-03-06T06:10:36.784531Z",
     "start_time": "2021-03-06T06:10:36.284355Z"
    },
    "scrolled": false
   },
   "outputs": [
    {
     "data": {
      "image/png": "[encoded data removed]",
      "text/plain": [
       "<Figure size 3600x2400 with 1 Axes>"
      ]
     },
     "metadata": {
      "needs_background": "light"
     },
     "output_type": "display_data"
    }
   ],
   "source": [
    "plt.figure(figsize=(9, 6), dpi=400)\n",
    "plt.bar(x=labelList, height=numList)\n",
    "for x, y in enumerate(numList):\n",
    "    plt.text(x, y, '%d' % y, ha='center')\n",
    "plt.title('labels counter')\n",
    "plt.savefig('Labels.png', dpi=100)\n",
    "plt.show()"
   ]
  },
  {
   "cell_type": "code",
   "execution_count": null,
   "id": "decent-helping",
   "metadata": {},
   "outputs": [],
   "source": []
  }
 ],
 "metadata": {
  "kernelspec": {
   "display_name": "Python 3",
   "language": "python",
   "name": "python3"
  },
  "toc": {
   "base_numbering": 1,
   "nav_menu": {},
   "number_sections": true,
   "sideBar": true,
   "skip_h1_title": false,
   "title_cell": "Table of Contents",
   "title_sidebar": "Contents",
   "toc_cell": false,
   "toc_position": {
    "height": "calc(100% - 180px)",
    "left": "10px",
    "top": "150px",
    "width": "384px"
   },
   "toc_section_display": true,
   "toc_window_display": false
  },
  "varInspector": {
   "cols": {
    "lenName": 16,
    "lenType": 16,
    "lenVar": 40
   },
   "kernels_config": {
    "python": {
     "delete_cmd_postfix": "",
     "delete_cmd_prefix": "del ",
     "library": "var_list.py",
     "varRefreshCmd": "print(var_dic_list())"
    },
    "r": {
     "delete_cmd_postfix": ") ",
     "delete_cmd_prefix": "rm(",
     "library": "var_list.r",
     "varRefreshCmd": "cat(var_dic_list()) "
    }
   },
   "position": {
    "height": "424.203px",
    "left": "1230.66px",
    "right": "20px",
    "top": "101px",
    "width": "574px"
   },
   "types_to_exclude": [
    "module",
    "function",
    "builtin_function_or_method",
    "instance",
    "_Feature"
   ],
   "window_display": false
  }
 },
 "nbformat": 4,
 "nbformat_minor": 5
}
