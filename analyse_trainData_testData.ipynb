{
 "cells": [
  {
   "cell_type": "code",
   "execution_count": 1,
   "id": "italic-davis",
   "metadata": {
    "ExecuteTime": {
     "end_time": "2021-03-15T08:56:06.645387Z",
     "start_time": "2021-03-15T08:56:06.368264Z"
    }
   },
   "outputs": [],
   "source": [
    "import pandas as pd\n",
    "import numpy as np"
   ]
  },
  {
   "cell_type": "code",
   "execution_count": 3,
   "id": "backed-vitamin",
   "metadata": {
    "ExecuteTime": {
     "end_time": "2021-03-15T08:59:09.688843Z",
     "start_time": "2021-03-15T08:59:09.639814Z"
    }
   },
   "outputs": [],
   "source": [
    "df1 = pd.read_csv(\"dataset/track1_round1_train_20210222.csv\", header=None, names=['idx', 'text', 'label'])[['text', 'label']]\n",
    "df2 = pd.read_csv(\"dataset/track1_round1_testA_20210222.csv\", header=None, names=['idx', 'text'])[['text']]"
   ]
  },
  {
   "cell_type": "markdown",
   "id": "athletic-atmosphere",
   "metadata": {},
   "source": [
    "0-16 表示不同类别，17表示正常"
   ]
  },
  {
   "cell_type": "code",
   "execution_count": 8,
   "id": "activated-piece",
   "metadata": {
    "ExecuteTime": {
     "end_time": "2021-03-15T09:21:26.115711Z",
     "start_time": "2021-03-15T09:21:26.105738Z"
    }
   },
   "outputs": [],
   "source": [
    "from collections import Counter\n",
    "all_counter = [Counter() for i in range(18)]"
   ]
  },
  {
   "cell_type": "code",
   "execution_count": 9,
   "id": "coral-radar",
   "metadata": {
    "ExecuteTime": {
     "end_time": "2021-03-15T09:21:29.103753Z",
     "start_time": "2021-03-15T09:21:29.093628Z"
    }
   },
   "outputs": [],
   "source": [
    "total_counter = Counter()"
   ]
  },
  {
   "cell_type": "code",
   "execution_count": 10,
   "id": "bigger-bouquet",
   "metadata": {
    "ExecuteTime": {
     "end_time": "2021-03-15T09:22:04.933525Z",
     "start_time": "2021-03-15T09:22:03.855980Z"
    }
   },
   "outputs": [],
   "source": [
    "for i in range(df1.shape[0]):\n",
    "    if df1.iloc[i, 1] != \"|\":\n",
    "        words = df1.iloc[i, 0].strip(\"|\").strip(\" \").split(\" \")\n",
    "        labels = df1.iloc[i, 1].strip(\"|\").strip(\" \").split(\" \")\n",
    "        for word in words:\n",
    "            total_counter[word] += 1\n",
    "            for label in labels:\n",
    "                all_counter[int(label)][word] += 1\n",
    "    else:\n",
    "        words = df1.iloc[i, 0].strip(\"|\").strip(\" \").split(\" \")\n",
    "        for word in words:\n",
    "            total_counter[word] += 1\n",
    "            all_counter[-1][word] += 1"
   ]
  },
  {
   "cell_type": "code",
   "execution_count": 11,
   "id": "hidden-malta",
   "metadata": {
    "ExecuteTime": {
     "end_time": "2021-03-15T09:22:53.034941Z",
     "start_time": "2021-03-15T09:22:53.015960Z"
    }
   },
   "outputs": [
    {
     "name": "stdout",
     "output_type": "stream",
     "text": [
      "class 0 have 858 words\n",
      "class 1 have 858 words\n",
      "class 2 have 858 words\n",
      "class 3 have 848 words\n",
      "class 4 have 858 words\n",
      "class 5 have 830 words\n",
      "class 6 have 776 words\n",
      "class 7 have 858 words\n",
      "class 8 have 858 words\n",
      "class 9 have 858 words\n",
      "class 10 have 838 words\n",
      "class 11 have 858 words\n",
      "class 12 have 841 words\n",
      "class 13 have 804 words\n",
      "class 14 have 852 words\n",
      "class 15 have 858 words\n",
      "class 16 have 858 words\n",
      "class 17 have 858 words\n"
     ]
    }
   ],
   "source": [
    "for i in range(18):\n",
    "    print(f\"class {i} have {len(all_counter[i])} words\")"
   ]
  },
  {
   "cell_type": "code",
   "execution_count": 13,
   "id": "popular-liechtenstein",
   "metadata": {
    "ExecuteTime": {
     "end_time": "2021-03-15T09:31:11.227946Z",
     "start_time": "2021-03-15T09:31:11.210482Z"
    }
   },
   "outputs": [
    {
     "name": "stdout",
     "output_type": "stream",
     "text": [
      "class 0' most common  10 words\n",
      "[('693', 2327), ('328', 2027), ('380', 1565), ('698', 1555), ('809', 1519), ('415', 1360), ('177', 1349), ('381', 1270), ('697', 1051), ('661', 849), ('48', 832), ('521', 778), ('623', 768), ('266', 747), ('363', 647), ('172', 647), ('842', 637), ('439', 603), ('355', 597), ('582', 594)]\n",
      "class 1' most common  10 words\n",
      "[('693', 2577), ('328', 1842), ('698', 1528), ('415', 1423), ('380', 1361), ('381', 1353), ('177', 1336), ('809', 1201), ('355', 1103), ('623', 964), ('661', 788), ('266', 774), ('842', 700), ('521', 700), ('582', 689), ('697', 642), ('48', 633), ('363', 615), ('14', 599), ('172', 574)]\n",
      "class 2' most common  10 words\n",
      "[('693', 2251), ('328', 1619), ('698', 1438), ('415', 1285), ('177', 1248), ('381', 1156), ('380', 1114), ('623', 935), ('538', 852), ('809', 757), ('14', 652), ('266', 629), ('661', 620), ('842', 514), ('582', 494), ('521', 491), ('399', 454), ('338', 453), ('48', 427), ('256', 420)]\n",
      "class 3' most common  10 words\n",
      "[('693', 1021), ('328', 623), ('698', 621), ('381', 526), ('177', 523), ('415', 510), ('380', 482), ('623', 452), ('501', 434), ('266', 288), ('661', 276), ('521', 254), ('14', 248), ('256', 245), ('809', 232), ('582', 230), ('382', 222), ('842', 221), ('338', 203), ('355', 188)]\n",
      "class 4' most common  10 words\n",
      "[('693', 2431), ('328', 2401), ('698', 1685), ('380', 1525), ('415', 1443), ('177', 1412), ('809', 1406), ('381', 1309), ('48', 1113), ('521', 1103), ('266', 1072), ('784', 974), ('545', 973), ('856', 944), ('374', 907), ('172', 796), ('338', 795), ('439', 734), ('842', 728), ('623', 687)]\n",
      "class 5' most common  10 words\n",
      "[('328', 917), ('693', 807), ('380', 574), ('698', 528), ('256', 500), ('809', 477), ('48', 409), ('381', 400), ('415', 399), ('177', 388), ('521', 374), ('172', 348), ('419', 329), ('266', 326), ('571', 325), ('769', 318), ('524', 315), ('338', 250), ('439', 248), ('842', 248)]\n",
      "class 6' most common  10 words\n",
      "[('693', 501), ('380', 494), ('328', 374), ('698', 343), ('415', 272), ('177', 264), ('809', 259), ('381', 243), ('623', 236), ('266', 183), ('160', 168), ('419', 154), ('789', 128), ('338', 127), ('256', 125), ('439', 119), ('14', 119), ('204', 116), ('521', 111), ('556', 90)]\n",
      "class 7' most common  10 words\n",
      "[('693', 2240), ('328', 1976), ('698', 1491), ('809', 1485), ('380', 1453), ('415', 1296), ('177', 1238), ('381', 1209), ('697', 1008), ('661', 844), ('48', 763), ('266', 731), ('521', 676), ('439', 637), ('172', 629), ('363', 623), ('852', 617), ('842', 567), ('338', 564), ('256', 563)]\n",
      "class 8' most common  10 words\n",
      "[('693', 2527), ('328', 1846), ('698', 1548), ('380', 1514), ('415', 1441), ('177', 1357), ('381', 1337), ('809', 1286), ('355', 1043), ('852', 798), ('661', 794), ('842', 731), ('266', 718), ('363', 711), ('14', 634), ('382', 632), ('399', 629), ('172', 599), ('48', 598), ('582', 581)]\n",
      "class 9' most common  10 words\n",
      "[('693', 1991), ('698', 1326), ('328', 1285), ('415', 1222), ('177', 1164), ('381', 1135), ('380', 985), ('852', 831), ('538', 791), ('14', 640), ('809', 604), ('266', 547), ('842', 544), ('582', 463), ('256', 460), ('661', 459), ('382', 422), ('399', 422), ('338', 418), ('439', 386)]\n",
      "class 10' most common  10 words\n",
      "[('693', 854), ('698', 608), ('177', 550), ('328', 536), ('415', 529), ('381', 491), ('380', 396), ('852', 379), ('501', 358), ('661', 275), ('14', 274), ('266', 255), ('809', 247), ('338', 231), ('521', 231), ('832', 209), ('582', 174), ('399', 169), ('382', 162), ('842', 155)]\n",
      "class 11' most common  10 words\n",
      "[('693', 2114), ('328', 2100), ('698', 1516), ('380', 1470), ('809', 1305), ('415', 1252), ('177', 1219), ('381', 1173), ('48', 1082), ('521', 930), ('266', 882), ('545', 843), ('784', 831), ('856', 802), ('374', 786), ('172', 746), ('439', 722), ('338', 697), ('842', 666), ('256', 614)]\n",
      "class 12' most common  10 words\n",
      "[('328', 909), ('693', 859), ('380', 600), ('698', 577), ('256', 533), ('809', 488), ('177', 455), ('415', 454), ('381', 437), ('48', 387), ('521', 385), ('419', 384), ('571', 361), ('524', 344), ('266', 343), ('172', 324), ('769', 315), ('439', 279), ('338', 256), ('842', 223)]\n",
      "class 13' most common  10 words\n",
      "[('380', 561), ('693', 560), ('328', 491), ('698', 339), ('415', 306), ('177', 299), ('381', 281), ('160', 267), ('809', 253), ('852', 251), ('266', 194), ('439', 173), ('521', 157), ('14', 148), ('338', 138), ('419', 136), ('256', 132), ('789', 132), ('172', 130), ('204', 122)]\n",
      "class 14' most common  10 words\n",
      "[('693', 1258), ('380', 1258), ('328', 809), ('698', 727), ('177', 706), ('415', 687), ('381', 666), ('809', 593), ('266', 478), ('338', 388), ('521', 383), ('439', 356), ('256', 346), ('852', 318), ('172', 308), ('623', 306), ('14', 298), ('842', 256), ('382', 226), ('832', 222)]\n",
      "class 15' most common  10 words\n",
      "[('328', 3771), ('693', 3741), ('380', 3373), ('698', 2548), ('415', 2161), ('177', 2132), ('809', 2041), ('381', 2022), ('172', 1850), ('48', 1374), ('266', 1258), ('521', 1205), ('256', 1170), ('439', 925), ('363', 900), ('320', 890), ('842', 868), ('338', 861), ('623', 830), ('654', 818)]\n",
      "class 16' most common  10 words\n",
      "[('380', 1545), ('693', 1456), ('328', 1144), ('698', 979), ('415', 901), ('809', 883), ('177', 868), ('381', 789), ('14', 635), ('399', 547), ('654', 468), ('582', 456), ('834', 437), ('832', 422), ('172', 379), ('48', 369), ('842', 366), ('852', 353), ('382', 349), ('439', 343)]\n",
      "class 17' most common  10 words\n",
      "[('693', 4370), ('328', 3363), ('380', 2585), ('698', 2379), ('204', 1733), ('809', 1577), ('381', 1551), ('415', 1550), ('177', 1514), ('382', 1463), ('623', 1315), ('832', 1313), ('256', 1228), ('172', 1175), ('399', 1122), ('852', 1082), ('582', 961), ('461', 949), ('439', 940), ('305', 931)]\n"
     ]
    }
   ],
   "source": [
    "for i in range(18):\n",
    "    print(f\"class {i}' most common  10 words\")\n",
    "    print(all_counter[i].most_common(20))"
   ]
  },
  {
   "cell_type": "code",
   "execution_count": 14,
   "id": "cooked-mandate",
   "metadata": {
    "ExecuteTime": {
     "end_time": "2021-03-15T09:35:25.350807Z",
     "start_time": "2021-03-15T09:35:25.337854Z"
    }
   },
   "outputs": [
    {
     "name": "stdout",
     "output_type": "stream",
     "text": [
      "('693', '328', '380', '698', '204', '809', '381', '415', '177', '382', '623', '832', '256', '172', '399', '852', '582', '461', '439', '305')\n"
     ]
    }
   ],
   "source": [
    "key, num = zip(*all_counter[-1].most_common(20))\n",
    "print(key)"
   ]
  },
  {
   "cell_type": "code",
   "execution_count": 15,
   "id": "usual-intermediate",
   "metadata": {
    "ExecuteTime": {
     "end_time": "2021-03-15T09:35:46.696202Z",
     "start_time": "2021-03-15T09:35:46.686226Z"
    }
   },
   "outputs": [],
   "source": [
    "filter_set = set(key)"
   ]
  },
  {
   "cell_type": "code",
   "execution_count": 17,
   "id": "moral-performer",
   "metadata": {
    "ExecuteTime": {
     "end_time": "2021-03-15T09:36:02.034636Z",
     "start_time": "2021-03-15T09:36:02.017683Z"
    }
   },
   "outputs": [
    {
     "data": {
      "text/plain": [
       "20"
      ]
     },
     "execution_count": 17,
     "metadata": {},
     "output_type": "execute_result"
    }
   ],
   "source": [
    "len(filter_set) "
   ]
  },
  {
   "cell_type": "markdown",
   "id": "thirty-roads",
   "metadata": {},
   "source": [
    "集合运算：& 交集，| 并集，^ 对称差集（并集减去交集）"
   ]
  },
  {
   "cell_type": "code",
   "execution_count": 19,
   "id": "tutorial-burning",
   "metadata": {
    "ExecuteTime": {
     "end_time": "2021-03-15T09:40:22.205982Z",
     "start_time": "2021-03-15T09:40:22.192984Z"
    }
   },
   "outputs": [],
   "source": [
    "for i in range(17):\n",
    "    key, value = zip(*all_counter[i].most_common(20))\n",
    "    filter_set = filter_set & set(key)"
   ]
  },
  {
   "cell_type": "code",
   "execution_count": 20,
   "id": "driving-agreement",
   "metadata": {
    "ExecuteTime": {
     "end_time": "2021-03-15T09:40:27.979019Z",
     "start_time": "2021-03-15T09:40:27.974032Z"
    }
   },
   "outputs": [
    {
     "data": {
      "text/plain": [
       "{'177', '328', '380', '381', '415', '693', '698', '809'}"
      ]
     },
     "execution_count": 20,
     "metadata": {},
     "output_type": "execute_result"
    }
   ],
   "source": [
    "filter_set"
   ]
  },
  {
   "cell_type": "code",
   "execution_count": 21,
   "id": "genetic-scoop",
   "metadata": {
    "ExecuteTime": {
     "end_time": "2021-03-15T10:12:05.066192Z",
     "start_time": "2021-03-15T10:12:04.936783Z"
    }
   },
   "outputs": [],
   "source": [
    "test_counter = Counter()\n",
    "for i in range(df2.shape[0]):\n",
    "    words = df2.iloc[i, 0].strip(\"|\").strip(\" \").split(\" \")\n",
    "    for word in words:\n",
    "        test_counter[word] += 1"
   ]
  },
  {
   "cell_type": "code",
   "execution_count": 22,
   "id": "undefined-partnership",
   "metadata": {
    "ExecuteTime": {
     "end_time": "2021-03-15T10:12:19.970003Z",
     "start_time": "2021-03-15T10:12:19.960037Z"
    },
    "scrolled": false
   },
   "outputs": [
    {
     "data": {
      "text/plain": [
       "[('693', 5477),\n",
       " ('328', 4009),\n",
       " ('698', 3592),\n",
       " ('380', 3198),\n",
       " ('177', 2844),\n",
       " ('415', 2785),\n",
       " ('381', 2699),\n",
       " ('809', 2111),\n",
       " ('266', 1501),\n",
       " ('623', 1467),\n",
       " ('14', 1434),\n",
       " ('852', 1387),\n",
       " ('256', 1344),\n",
       " ('842', 1267),\n",
       " ('832', 1245),\n",
       " ('172', 1243),\n",
       " ('399', 1155),\n",
       " ('204', 1142),\n",
       " ('382', 1135),\n",
       " ('582', 1130)]"
      ]
     },
     "execution_count": 22,
     "metadata": {},
     "output_type": "execute_result"
    }
   ],
   "source": [
    "test_counter.most_common(20)"
   ]
  },
  {
   "cell_type": "code",
   "execution_count": 28,
   "id": "peripheral-delivery",
   "metadata": {
    "ExecuteTime": {
     "end_time": "2021-03-15T10:18:37.335440Z",
     "start_time": "2021-03-15T10:18:37.324469Z"
    },
    "scrolled": true
   },
   "outputs": [
    {
     "data": {
      "text/plain": [
       "[('693', 20805),\n",
       " ('328', 14966),\n",
       " ('380', 13115),\n",
       " ('698', 12959),\n",
       " ('415', 10717),\n",
       " ('177', 10508),\n",
       " ('381', 10051),\n",
       " ('809', 7212),\n",
       " ('623', 5681),\n",
       " ('266', 5406),\n",
       " ('256', 5327),\n",
       " ('172', 5265),\n",
       " ('14', 5000),\n",
       " ('852', 4739),\n",
       " ('399', 4398),\n",
       " ('832', 4395),\n",
       " ('382', 4372),\n",
       " ('842', 4328),\n",
       " ('521', 4296),\n",
       " ('48', 4112)]"
      ]
     },
     "execution_count": 28,
     "metadata": {},
     "output_type": "execute_result"
    }
   ],
   "source": [
    "total_counter.most_common(20)"
   ]
  },
  {
   "cell_type": "code",
   "execution_count": 23,
   "id": "experimental-native",
   "metadata": {
    "ExecuteTime": {
     "end_time": "2021-03-15T10:14:07.943334Z",
     "start_time": "2021-03-15T10:14:07.930336Z"
    }
   },
   "outputs": [],
   "source": [
    "keys = test_counter.keys()"
   ]
  },
  {
   "cell_type": "code",
   "execution_count": 24,
   "id": "retired-hacker",
   "metadata": {
    "ExecuteTime": {
     "end_time": "2021-03-15T10:14:15.232109Z",
     "start_time": "2021-03-15T10:14:15.226134Z"
    }
   },
   "outputs": [
    {
     "data": {
      "text/plain": [
       "858"
      ]
     },
     "execution_count": 24,
     "metadata": {},
     "output_type": "execute_result"
    }
   ],
   "source": [
    "len(keys)"
   ]
  },
  {
   "cell_type": "code",
   "execution_count": 25,
   "id": "nasty-consumption",
   "metadata": {
    "ExecuteTime": {
     "end_time": "2021-03-15T10:15:42.949677Z",
     "start_time": "2021-03-15T10:15:42.934691Z"
    }
   },
   "outputs": [],
   "source": [
    "test_word_set = set(keys)\n",
    "train_word_set = set(total_counter.keys())\n",
    "diff = test_word_set ^ train_word_set"
   ]
  },
  {
   "cell_type": "code",
   "execution_count": 26,
   "id": "postal-commodity",
   "metadata": {
    "ExecuteTime": {
     "end_time": "2021-03-15T10:15:46.596330Z",
     "start_time": "2021-03-15T10:15:46.587354Z"
    }
   },
   "outputs": [
    {
     "data": {
      "text/plain": [
       "set()"
      ]
     },
     "execution_count": 26,
     "metadata": {},
     "output_type": "execute_result"
    }
   ],
   "source": [
    "diff"
   ]
  },
  {
   "cell_type": "code",
   "execution_count": 27,
   "id": "listed-agent",
   "metadata": {
    "ExecuteTime": {
     "end_time": "2021-03-15T10:15:54.894257Z",
     "start_time": "2021-03-15T10:15:54.874279Z"
    }
   },
   "outputs": [
    {
     "data": {
      "text/plain": [
       "0"
      ]
     },
     "execution_count": 27,
     "metadata": {},
     "output_type": "execute_result"
    }
   ],
   "source": [
    "len(diff)"
   ]
  },
  {
   "cell_type": "markdown",
   "id": "valid-highway",
   "metadata": {},
   "source": [
    "训练集和测试集的语料是一样的"
   ]
  },
  {
   "cell_type": "code",
   "execution_count": null,
   "id": "center-sucking",
   "metadata": {},
   "outputs": [],
   "source": []
  }
 ],
 "metadata": {
  "kernelspec": {
   "display_name": "Python 3",
   "language": "python",
   "name": "python3"
  },
  "toc": {
   "base_numbering": 1,
   "nav_menu": {},
   "number_sections": true,
   "sideBar": true,
   "skip_h1_title": false,
   "title_cell": "Table of Contents",
   "title_sidebar": "Contents",
   "toc_cell": false,
   "toc_position": {},
   "toc_section_display": true,
   "toc_window_display": false
  },
  "varInspector": {
   "cols": {
    "lenName": 16,
    "lenType": 16,
    "lenVar": 40
   },
   "kernels_config": {
    "python": {
     "delete_cmd_postfix": "",
     "delete_cmd_prefix": "del ",
     "library": "var_list.py",
     "varRefreshCmd": "print(var_dic_list())"
    },
    "r": {
     "delete_cmd_postfix": ") ",
     "delete_cmd_prefix": "rm(",
     "library": "var_list.r",
     "varRefreshCmd": "cat(var_dic_list()) "
    }
   },
   "types_to_exclude": [
    "module",
    "function",
    "builtin_function_or_method",
    "instance",
    "_Feature"
   ],
   "window_display": false
  }
 },
 "nbformat": 4,
 "nbformat_minor": 5
}
